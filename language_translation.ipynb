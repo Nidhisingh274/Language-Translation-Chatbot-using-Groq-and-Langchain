{
 "cells": [
  {
   "cell_type": "code",
   "execution_count": 10,
   "id": "6e6b0280",
   "metadata": {},
   "outputs": [],
   "source": [
    "import os"
   ]
  },
  {
   "cell_type": "code",
   "execution_count": 3,
   "id": "c0a195b1",
   "metadata": {},
   "outputs": [
    {
     "data": {
      "text/plain": [
       "True"
      ]
     },
     "execution_count": 3,
     "metadata": {},
     "output_type": "execute_result"
    }
   ],
   "source": [
    "from dotenv import load_dotenv\n",
    "load_dotenv()"
   ]
  },
  {
   "cell_type": "code",
   "execution_count": 11,
   "id": "57b9d037",
   "metadata": {},
   "outputs": [],
   "source": [
    "os.environ[\"GROQ_API_KEY\"] = os.getenv(\"GROQ_API_KEY\")\n"
   ]
  },
  {
   "cell_type": "code",
   "execution_count": 12,
   "id": "4f3e537e",
   "metadata": {},
   "outputs": [
    {
     "name": "stdout",
     "output_type": "stream",
     "text": [
      "Note: you may need to restart the kernel to use updated packages.Requirement already satisfied: langchain-groq in c:\\users\\dell\\downloads\\agentic ai_udemy\\venv\\lib\\site-packages (0.3.8)\n",
      "Requirement already satisfied: langchain-core<1.0.0,>=0.3.75 in c:\\users\\dell\\downloads\\agentic ai_udemy\\venv\\lib\\site-packages (from langchain-groq) (0.3.76)\n",
      "Requirement already satisfied: groq<1,>=0.30.0 in c:\\users\\dell\\downloads\\agentic ai_udemy\\venv\\lib\\site-packages (from langchain-groq) (0.32.0)\n",
      "Requirement already satisfied: anyio<5,>=3.5.0 in c:\\users\\dell\\downloads\\agentic ai_udemy\\venv\\lib\\site-packages (from groq<1,>=0.30.0->langchain-groq) (4.10.0)\n",
      "Requirement already satisfied: distro<2,>=1.7.0 in c:\\users\\dell\\downloads\\agentic ai_udemy\\venv\\lib\\site-packages (from groq<1,>=0.30.0->langchain-groq) (1.9.0)\n",
      "Requirement already satisfied: httpx<1,>=0.23.0 in c:\\users\\dell\\downloads\\agentic ai_udemy\\venv\\lib\\site-packages (from groq<1,>=0.30.0->langchain-groq) (0.28.1)\n",
      "Requirement already satisfied: pydantic<3,>=1.9.0 in c:\\users\\dell\\downloads\\agentic ai_udemy\\venv\\lib\\site-packages (from groq<1,>=0.30.0->langchain-groq) (2.11.7)\n",
      "Requirement already satisfied: sniffio in c:\\users\\dell\\downloads\\agentic ai_udemy\\venv\\lib\\site-packages (from groq<1,>=0.30.0->langchain-groq) (1.3.1)\n",
      "Requirement already satisfied: typing-extensions<5,>=4.10 in c:\\users\\dell\\downloads\\agentic ai_udemy\\venv\\lib\\site-packages (from groq<1,>=0.30.0->langchain-groq) (4.15.0)\n",
      "Requirement already satisfied: exceptiongroup>=1.0.2 in c:\\users\\dell\\downloads\\agentic ai_udemy\\venv\\lib\\site-packages (from anyio<5,>=3.5.0->groq<1,>=0.30.0->langchain-groq) (1.3.0)\n",
      "Requirement already satisfied: idna>=2.8 in c:\\users\\dell\\downloads\\agentic ai_udemy\\venv\\lib\\site-packages (from anyio<5,>=3.5.0->groq<1,>=0.30.0->langchain-groq) (3.10)\n",
      "Requirement already satisfied: certifi in c:\\users\\dell\\downloads\\agentic ai_udemy\\venv\\lib\\site-packages (from httpx<1,>=0.23.0->groq<1,>=0.30.0->langchain-groq) (2025.8.3)\n",
      "Requirement already satisfied: httpcore==1.* in c:\\users\\dell\\downloads\\agentic ai_udemy\\venv\\lib\\site-packages (from httpx<1,>=0.23.0->groq<1,>=0.30.0->langchain-groq) (1.0.9)\n",
      "Requirement already satisfied: h11>=0.16 in c:\\users\\dell\\downloads\\agentic ai_udemy\\venv\\lib\\site-packages (from httpcore==1.*->httpx<1,>=0.23.0->groq<1,>=0.30.0->langchain-groq) (0.16.0)\n",
      "Requirement already satisfied: langsmith>=0.3.45 in c:\\users\\dell\\downloads\\agentic ai_udemy\\venv\\lib\\site-packages (from langchain-core<1.0.0,>=0.3.75->langchain-groq) (0.4.27)\n",
      "Requirement already satisfied: tenacity!=8.4.0,<10.0.0,>=8.1.0 in c:\\users\\dell\\downloads\\agentic ai_udemy\\venv\\lib\\site-packages (from langchain-core<1.0.0,>=0.3.75->langchain-groq) (9.1.2)\n",
      "Requirement already satisfied: jsonpatch<2.0,>=1.33 in c:\\users\\dell\\downloads\\agentic ai_udemy\\venv\\lib\\site-packages (from langchain-core<1.0.0,>=0.3.75->langchain-groq) (1.33)\n",
      "Requirement already satisfied: PyYAML>=5.3 in c:\\users\\dell\\downloads\\agentic ai_udemy\\venv\\lib\\site-packages (from langchain-core<1.0.0,>=0.3.75->langchain-groq) (6.0.2)\n",
      "Requirement already satisfied: packaging>=23.2 in c:\\users\\dell\\downloads\\agentic ai_udemy\\venv\\lib\\site-packages (from langchain-core<1.0.0,>=0.3.75->langchain-groq) (25.0)\n",
      "Requirement already satisfied: jsonpointer>=1.9 in c:\\users\\dell\\downloads\\agentic ai_udemy\\venv\\lib\\site-packages (from jsonpatch<2.0,>=1.33->langchain-core<1.0.0,>=0.3.75->langchain-groq) (3.0.0)\n",
      "Requirement already satisfied: annotated-types>=0.6.0 in c:\\users\\dell\\downloads\\agentic ai_udemy\\venv\\lib\\site-packages (from pydantic<3,>=1.9.0->groq<1,>=0.30.0->langchain-groq) (0.7.0)\n",
      "Requirement already satisfied: pydantic-core==2.33.2 in c:\\users\\dell\\downloads\\agentic ai_udemy\\venv\\lib\\site-packages (from pydantic<3,>=1.9.0->groq<1,>=0.30.0->langchain-groq) (2.33.2)\n",
      "Requirement already satisfied: typing-inspection>=0.4.0 in c:\\users\\dell\\downloads\\agentic ai_udemy\\venv\\lib\\site-packages (from pydantic<3,>=1.9.0->groq<1,>=0.30.0->langchain-groq) (0.4.1)\n",
      "Requirement already satisfied: orjson>=3.9.14 in c:\\users\\dell\\downloads\\agentic ai_udemy\\venv\\lib\\site-packages (from langsmith>=0.3.45->langchain-core<1.0.0,>=0.3.75->langchain-groq) (3.11.3)\n",
      "Requirement already satisfied: requests-toolbelt>=1.0.0 in c:\\users\\dell\\downloads\\agentic ai_udemy\\venv\\lib\\site-packages (from langsmith>=0.3.45->langchain-core<1.0.0,>=0.3.75->langchain-groq) (1.0.0)\n",
      "Requirement already satisfied: requests>=2.0.0 in c:\\users\\dell\\downloads\\agentic ai_udemy\\venv\\lib\\site-packages (from langsmith>=0.3.45->langchain-core<1.0.0,>=0.3.75->langchain-groq) (2.32.5)\n",
      "Requirement already satisfied: zstandard>=0.23.0 in c:\\users\\dell\\downloads\\agentic ai_udemy\\venv\\lib\\site-packages (from langsmith>=0.3.45->langchain-core<1.0.0,>=0.3.75->langchain-groq) (0.24.0)\n",
      "Requirement already satisfied: charset_normalizer<4,>=2 in c:\\users\\dell\\downloads\\agentic ai_udemy\\venv\\lib\\site-packages (from requests>=2.0.0->langsmith>=0.3.45->langchain-core<1.0.0,>=0.3.75->langchain-groq) (3.4.3)\n",
      "Requirement already satisfied: urllib3<3,>=1.21.1 in c:\\users\\dell\\downloads\\agentic ai_udemy\\venv\\lib\\site-packages (from requests>=2.0.0->langsmith>=0.3.45->langchain-core<1.0.0,>=0.3.75->langchain-groq) (2.5.0)\n",
      "\n"
     ]
    }
   ],
   "source": [
    "pip install langchain-groq\n"
   ]
  },
  {
   "cell_type": "code",
   "execution_count": 13,
   "id": "b9c1de28",
   "metadata": {},
   "outputs": [],
   "source": [
    "from langchain_groq import ChatGroq                                            # same as from langchain_openai import ChatOpenAI"
   ]
  },
  {
   "cell_type": "code",
   "execution_count": 17,
   "id": "1ae82499",
   "metadata": {},
   "outputs": [
    {
     "ename": "NameError",
     "evalue": "name 'groq_api_key' is not defined",
     "output_type": "error",
     "traceback": [
      "\u001b[1;31m---------------------------------------------------------------------------\u001b[0m",
      "\u001b[1;31mNameError\u001b[0m                                 Traceback (most recent call last)",
      "Cell \u001b[1;32mIn[17], line 1\u001b[0m\n\u001b[1;32m----> 1\u001b[0m ChatGroq(model \u001b[38;5;241m=\u001b[39m \u001b[38;5;124m\"\u001b[39m\u001b[38;5;124mGemma2-9b-It\u001b[39m\u001b[38;5;124m\"\u001b[39m, groq_api_key \u001b[38;5;241m=\u001b[39m \u001b[43mgroq_api_key\u001b[49m) \n",
      "\u001b[1;31mNameError\u001b[0m: name 'groq_api_key' is not defined"
     ]
    }
   ],
   "source": [
    "ChatGroq(model = \"Gemma2-9b-It\", groq_api_key = groq_api_key) "
   ]
  },
  {
   "cell_type": "code",
   "execution_count": null,
   "id": "94fa2d8b",
   "metadata": {},
   "outputs": [],
   "source": [
    "from langchain_core.messages import HumanMessage, SystemMessage\n",
    "messgaes = [\n",
    "    SystemMessage(content = \" \")\n",
    "]"
   ]
  }
 ],
 "metadata": {
  "kernelspec": {
   "display_name": "venv",
   "language": "python",
   "name": "python3"
  },
  "language_info": {
   "codemirror_mode": {
    "name": "ipython",
    "version": 3
   },
   "file_extension": ".py",
   "mimetype": "text/x-python",
   "name": "python",
   "nbconvert_exporter": "python",
   "pygments_lexer": "ipython3",
   "version": "3.10.0"
  }
 },
 "nbformat": 4,
 "nbformat_minor": 5
}
